{
 "cells": [
  {
   "cell_type": "code",
   "execution_count": 1,
   "metadata": {},
   "outputs": [],
   "source": [
    "import pandas as pd\n",
    "import numpy as np"
   ]
  },
  {
   "cell_type": "code",
   "execution_count": 2,
   "metadata": {},
   "outputs": [],
   "source": [
    "spotify = pd.read_csv('spotify_daily.csv')"
   ]
  },
  {
   "cell_type": "code",
   "execution_count": 3,
   "metadata": {},
   "outputs": [
    {
     "data": {
      "text/html": [
       "<div>\n",
       "<style scoped>\n",
       "    .dataframe tbody tr th:only-of-type {\n",
       "        vertical-align: middle;\n",
       "    }\n",
       "\n",
       "    .dataframe tbody tr th {\n",
       "        vertical-align: top;\n",
       "    }\n",
       "\n",
       "    .dataframe thead th {\n",
       "        text-align: right;\n",
       "    }\n",
       "</style>\n",
       "<table border=\"1\" class=\"dataframe\">\n",
       "  <thead>\n",
       "    <tr style=\"text-align: right;\">\n",
       "      <th></th>\n",
       "      <th>artist</th>\n",
       "      <th>date</th>\n",
       "      <th>movement</th>\n",
       "      <th>ranking</th>\n",
       "      <th>song_title</th>\n",
       "      <th>streams</th>\n",
       "    </tr>\n",
       "  </thead>\n",
       "  <tbody>\n",
       "    <tr>\n",
       "      <th>0</th>\n",
       "      <td>Ariana Grande/sep/,Internet Money/sep/,24kGold...</td>\n",
       "      <td>2020-10-28,2020-10-28,2020-10-28,2020-10-28,20...</td>\n",
       "      <td>rect,polygon,polygon,polygon,rect,rect,rect,re...</td>\n",
       "      <td>1,2,3,4,5,6,7,8,9,10,11,12,13,14,15,16,17,18,1...</td>\n",
       "      <td>positions/sep/,Lemonade (feat. Gunna, Don Toli...</td>\n",
       "      <td>1467474,1066857,1065305,1049866,953967,898601,...</td>\n",
       "    </tr>\n",
       "    <tr>\n",
       "      <th>1</th>\n",
       "      <td>Ariana Grande/sep/,24kGoldn/sep/,Internet Mone...</td>\n",
       "      <td>2020-10-29,2020-10-29,2020-10-29,2020-10-29,20...</td>\n",
       "      <td>rect,polygon,polygon,rect,rect,rect,rect,rect,...</td>\n",
       "      <td>1,2,3,4,5,6,7,8,9,10,11,12,13,14,15,16,17,18,1...</td>\n",
       "      <td>positions/sep/,Mood (feat. iann dior)/sep/,Lem...</td>\n",
       "      <td>1423435,1085998,1054562,1009019,962738,917075,...</td>\n",
       "    </tr>\n",
       "    <tr>\n",
       "      <th>2</th>\n",
       "      <td>Ariana Grande/sep/,Ariana Grande/sep/,Ariana G...</td>\n",
       "      <td>2020-10-30,2020-10-30,2020-10-30,2020-10-30,20...</td>\n",
       "      <td>circle,polygon,circle,circle,circle,circle,cir...</td>\n",
       "      <td>1,2,3,4,5,6,7,8,9,10,11,12,13,14,15,16,17,18,1...</td>\n",
       "      <td>34+35/sep/,positions/sep/,motive (with Doja Ca...</td>\n",
       "      <td>2698854,2532572,2128897,2034529,1943259,179785...</td>\n",
       "    </tr>\n",
       "    <tr>\n",
       "      <th>3</th>\n",
       "      <td>Cardi B/sep/,Drake/sep/,Morgan Wallen/sep/,DaB...</td>\n",
       "      <td>2020-08-14,2020-08-14,2020-08-14,2020-08-14,20...</td>\n",
       "      <td>rect,circle,circle,polygon,circle,polygon,poly...</td>\n",
       "      <td>1,2,3,4,5,6,7,8,9,10,11,12,13,14,15,16,17,18,1...</td>\n",
       "      <td>WAP (feat. Megan Thee Stallion)/sep/,Laugh Now...</td>\n",
       "      <td>3030510,2600470,2269891,1221684,1161613,114664...</td>\n",
       "    </tr>\n",
       "    <tr>\n",
       "      <th>4</th>\n",
       "      <td>Cardi B/sep/,Drake/sep/,Morgan Wallen/sep/,DaB...</td>\n",
       "      <td>2020-08-15,2020-08-15,2020-08-15,2020-08-15,20...</td>\n",
       "      <td>rect,rect,rect,rect,polygon,rect,polygon,rect,...</td>\n",
       "      <td>1,2,3,4,5,6,7,8,9,10,11,12,13,14,15,16,17,18,1...</td>\n",
       "      <td>WAP (feat. Megan Thee Stallion)/sep/,Laugh Now...</td>\n",
       "      <td>2969444,2535804,1495826,1227494,1059770,105622...</td>\n",
       "    </tr>\n",
       "  </tbody>\n",
       "</table>\n",
       "</div>"
      ],
      "text/plain": [
       "                                              artist  \\\n",
       "0  Ariana Grande/sep/,Internet Money/sep/,24kGold...   \n",
       "1  Ariana Grande/sep/,24kGoldn/sep/,Internet Mone...   \n",
       "2  Ariana Grande/sep/,Ariana Grande/sep/,Ariana G...   \n",
       "3  Cardi B/sep/,Drake/sep/,Morgan Wallen/sep/,DaB...   \n",
       "4  Cardi B/sep/,Drake/sep/,Morgan Wallen/sep/,DaB...   \n",
       "\n",
       "                                                date  \\\n",
       "0  2020-10-28,2020-10-28,2020-10-28,2020-10-28,20...   \n",
       "1  2020-10-29,2020-10-29,2020-10-29,2020-10-29,20...   \n",
       "2  2020-10-30,2020-10-30,2020-10-30,2020-10-30,20...   \n",
       "3  2020-08-14,2020-08-14,2020-08-14,2020-08-14,20...   \n",
       "4  2020-08-15,2020-08-15,2020-08-15,2020-08-15,20...   \n",
       "\n",
       "                                            movement  \\\n",
       "0  rect,polygon,polygon,polygon,rect,rect,rect,re...   \n",
       "1  rect,polygon,polygon,rect,rect,rect,rect,rect,...   \n",
       "2  circle,polygon,circle,circle,circle,circle,cir...   \n",
       "3  rect,circle,circle,polygon,circle,polygon,poly...   \n",
       "4  rect,rect,rect,rect,polygon,rect,polygon,rect,...   \n",
       "\n",
       "                                             ranking  \\\n",
       "0  1,2,3,4,5,6,7,8,9,10,11,12,13,14,15,16,17,18,1...   \n",
       "1  1,2,3,4,5,6,7,8,9,10,11,12,13,14,15,16,17,18,1...   \n",
       "2  1,2,3,4,5,6,7,8,9,10,11,12,13,14,15,16,17,18,1...   \n",
       "3  1,2,3,4,5,6,7,8,9,10,11,12,13,14,15,16,17,18,1...   \n",
       "4  1,2,3,4,5,6,7,8,9,10,11,12,13,14,15,16,17,18,1...   \n",
       "\n",
       "                                          song_title  \\\n",
       "0  positions/sep/,Lemonade (feat. Gunna, Don Toli...   \n",
       "1  positions/sep/,Mood (feat. iann dior)/sep/,Lem...   \n",
       "2  34+35/sep/,positions/sep/,motive (with Doja Ca...   \n",
       "3  WAP (feat. Megan Thee Stallion)/sep/,Laugh Now...   \n",
       "4  WAP (feat. Megan Thee Stallion)/sep/,Laugh Now...   \n",
       "\n",
       "                                             streams  \n",
       "0  1467474,1066857,1065305,1049866,953967,898601,...  \n",
       "1  1423435,1085998,1054562,1009019,962738,917075,...  \n",
       "2  2698854,2532572,2128897,2034529,1943259,179785...  \n",
       "3  3030510,2600470,2269891,1221684,1161613,114664...  \n",
       "4  2969444,2535804,1495826,1227494,1059770,105622...  "
      ]
     },
     "execution_count": 3,
     "metadata": {},
     "output_type": "execute_result"
    }
   ],
   "source": [
    "spotify.head()"
   ]
  },
  {
   "cell_type": "code",
   "execution_count": 4,
   "metadata": {},
   "outputs": [
    {
     "data": {
      "text/plain": [
       "(1395, 6)"
      ]
     },
     "execution_count": 4,
     "metadata": {},
     "output_type": "execute_result"
    }
   ],
   "source": [
    "spotify.shape"
   ]
  },
  {
   "cell_type": "code",
   "execution_count": 5,
   "metadata": {},
   "outputs": [],
   "source": [
    "def list_to_rows(variable, sep, d_type):\n",
    "    '''''''''''\n",
    "    This function splits the lists in spotify['variable'] using 'sep', \n",
    "    then puts every output item from the split in a new row\n",
    "    '''''''''''\n",
    "    col_np = spotify[variable].str.split(sep).explode()\n",
    "    col_df = pd.DataFrame(col_np)\n",
    "    col_df = col_df.astype({variable: d_type})\n",
    "    return col_df"
   ]
  },
  {
   "cell_type": "code",
   "execution_count": 6,
   "metadata": {},
   "outputs": [],
   "source": [
    "# applying list_to_rows() to every column in df\n",
    "artist_col = list_to_rows('artist', '/sep/,', 'str')\n",
    "date_col = list_to_rows('date', ',', 'str')\n",
    "movement_col = list_to_rows('movement', ',', 'str')\n",
    "ranking_col = list_to_rows('ranking', ',', 'int')\n",
    "song_col = list_to_rows('song_title', '/sep/,', 'str')\n",
    "streams_col = list_to_rows('streams', ',', 'int')"
   ]
  },
  {
   "cell_type": "code",
   "execution_count": 7,
   "metadata": {},
   "outputs": [
    {
     "name": "stdout",
     "output_type": "stream",
     "text": [
      "artist: (278984, 1)\n",
      "date: (279000, 1)\n",
      "movement: (279000, 1)\n",
      "ranking: (279000, 1)\n",
      "song_title: (278984, 1)\n",
      "streams: (279000, 1)\n"
     ]
    }
   ],
   "source": [
    "# verify # of rows in each output; 279000 is what we should get\n",
    "print(f'artist: {artist_col.shape}')\n",
    "print(f'date: {date_col.shape}')\n",
    "print(f'movement: {movement_col.shape}')\n",
    "print(f'ranking: {ranking_col.shape}')\n",
    "print(f'song_title: {song_col.shape}')\n",
    "print(f'streams: {streams_col.shape}')"
   ]
  },
  {
   "cell_type": "code",
   "execution_count": 8,
   "metadata": {},
   "outputs": [
    {
     "data": {
      "text/plain": [
       "16"
      ]
     },
     "execution_count": 8,
     "metadata": {},
     "output_type": "execute_result"
    }
   ],
   "source": [
    "(1395)*200 - 278984\n",
    "# artist and song_title are missing 16 rows each"
   ]
  },
  {
   "cell_type": "code",
   "execution_count": 9,
   "metadata": {
    "scrolled": false
   },
   "outputs": [
    {
     "data": {
      "text/plain": [
       "(1194,)"
      ]
     },
     "execution_count": 9,
     "metadata": {},
     "output_type": "execute_result"
    }
   ],
   "source": [
    "# missing 1 row from each of these indices from 2017, total 6\n",
    "spotify.iloc[325:331, ]['artist'].str.split('/sep/,').explode().shape"
   ]
  },
  {
   "cell_type": "code",
   "execution_count": 10,
   "metadata": {},
   "outputs": [
    {
     "data": {
      "text/plain": [
       "(990,)"
      ]
     },
     "execution_count": 10,
     "metadata": {},
     "output_type": "execute_result"
    }
   ],
   "source": [
    "# missing 2 rows from each of these indices from 2017, total 10\n",
    "spotify.iloc[213:218, ]['artist'].str.split('/sep/,').explode().shape"
   ]
  },
  {
   "cell_type": "code",
   "execution_count": 11,
   "metadata": {},
   "outputs": [
    {
     "data": {
      "text/plain": [
       "(1033, 6)"
      ]
     },
     "execution_count": 11,
     "metadata": {},
     "output_type": "execute_result"
    }
   ],
   "source": [
    "# removing 2017 for the sake of time; will add try/except to the scrapy codes later\n",
    "spotify = spotify[~spotify['date'].str.contains('2017')]\n",
    "spotify.shape"
   ]
  },
  {
   "cell_type": "code",
   "execution_count": 12,
   "metadata": {
    "scrolled": true
   },
   "outputs": [],
   "source": [
    "artist_col = list_to_rows('artist', '/sep/,', 'str')\n",
    "date_col = list_to_rows('date', ',', 'str')\n",
    "movement_col = list_to_rows('movement', ',', 'str')\n",
    "ranking_col = list_to_rows('ranking', ',', 'int')\n",
    "song_col = list_to_rows('song_title', '/sep/,', 'str')\n",
    "streams_col = list_to_rows('streams', ',', 'int')"
   ]
  },
  {
   "cell_type": "code",
   "execution_count": 13,
   "metadata": {},
   "outputs": [
    {
     "name": "stdout",
     "output_type": "stream",
     "text": [
      "artist: (206600, 1)\n",
      "date: (206600, 1)\n",
      "movement: (206600, 1)\n",
      "ranking: (206600, 1)\n",
      "song_title: (206600, 1)\n",
      "streams: (206600, 1)\n"
     ]
    }
   ],
   "source": [
    "# checking # or rows again, should get 206600 rows\n",
    "print(f'artist: {artist_col.shape}')\n",
    "print(f'date: {date_col.shape}')\n",
    "print(f'movement: {movement_col.shape}')\n",
    "print(f'ranking: {ranking_col.shape}')\n",
    "print(f'song_title: {song_col.shape}')\n",
    "print(f'streams: {streams_col.shape}')"
   ]
  },
  {
   "cell_type": "code",
   "execution_count": 14,
   "metadata": {},
   "outputs": [],
   "source": [
    "# binding columns\n",
    "spotify_cleaned = pd.concat([artist_col, date_col, movement_col, ranking_col, song_col, streams_col], \n",
    "                            axis=1, ignore_index=True)"
   ]
  },
  {
   "cell_type": "code",
   "execution_count": 15,
   "metadata": {
    "scrolled": false
   },
   "outputs": [
    {
     "data": {
      "text/plain": [
       "(206600, 6)"
      ]
     },
     "execution_count": 15,
     "metadata": {},
     "output_type": "execute_result"
    }
   ],
   "source": [
    "spotify_cleaned.shape"
   ]
  },
  {
   "cell_type": "code",
   "execution_count": 16,
   "metadata": {},
   "outputs": [
    {
     "data": {
      "text/html": [
       "<div>\n",
       "<style scoped>\n",
       "    .dataframe tbody tr th:only-of-type {\n",
       "        vertical-align: middle;\n",
       "    }\n",
       "\n",
       "    .dataframe tbody tr th {\n",
       "        vertical-align: top;\n",
       "    }\n",
       "\n",
       "    .dataframe thead th {\n",
       "        text-align: right;\n",
       "    }\n",
       "</style>\n",
       "<table border=\"1\" class=\"dataframe\">\n",
       "  <thead>\n",
       "    <tr style=\"text-align: right;\">\n",
       "      <th></th>\n",
       "      <th>0</th>\n",
       "      <th>1</th>\n",
       "      <th>2</th>\n",
       "      <th>3</th>\n",
       "      <th>4</th>\n",
       "      <th>5</th>\n",
       "    </tr>\n",
       "  </thead>\n",
       "  <tbody>\n",
       "    <tr>\n",
       "      <th>0</th>\n",
       "      <td>Ariana Grande</td>\n",
       "      <td>2020-10-28</td>\n",
       "      <td>rect</td>\n",
       "      <td>1</td>\n",
       "      <td>positions</td>\n",
       "      <td>1467474</td>\n",
       "    </tr>\n",
       "    <tr>\n",
       "      <th>0</th>\n",
       "      <td>Internet Money</td>\n",
       "      <td>2020-10-28</td>\n",
       "      <td>polygon</td>\n",
       "      <td>2</td>\n",
       "      <td>Lemonade (feat. Gunna, Don Toliver &amp; NAV)</td>\n",
       "      <td>1066857</td>\n",
       "    </tr>\n",
       "    <tr>\n",
       "      <th>0</th>\n",
       "      <td>24kGoldn</td>\n",
       "      <td>2020-10-28</td>\n",
       "      <td>polygon</td>\n",
       "      <td>3</td>\n",
       "      <td>Mood (feat. iann dior)</td>\n",
       "      <td>1065305</td>\n",
       "    </tr>\n",
       "    <tr>\n",
       "      <th>0</th>\n",
       "      <td>Luke Combs</td>\n",
       "      <td>2020-10-28</td>\n",
       "      <td>polygon</td>\n",
       "      <td>4</td>\n",
       "      <td>Forever After All</td>\n",
       "      <td>1049866</td>\n",
       "    </tr>\n",
       "    <tr>\n",
       "      <th>0</th>\n",
       "      <td>Pop Smoke</td>\n",
       "      <td>2020-10-28</td>\n",
       "      <td>rect</td>\n",
       "      <td>5</td>\n",
       "      <td>For The Night (feat. Lil Baby &amp; DaBaby)</td>\n",
       "      <td>953967</td>\n",
       "    </tr>\n",
       "  </tbody>\n",
       "</table>\n",
       "</div>"
      ],
      "text/plain": [
       "                0           1        2  3  \\\n",
       "0   Ariana Grande  2020-10-28     rect  1   \n",
       "0  Internet Money  2020-10-28  polygon  2   \n",
       "0        24kGoldn  2020-10-28  polygon  3   \n",
       "0      Luke Combs  2020-10-28  polygon  4   \n",
       "0       Pop Smoke  2020-10-28     rect  5   \n",
       "\n",
       "                                           4        5  \n",
       "0                                  positions  1467474  \n",
       "0  Lemonade (feat. Gunna, Don Toliver & NAV)  1066857  \n",
       "0                     Mood (feat. iann dior)  1065305  \n",
       "0                          Forever After All  1049866  \n",
       "0    For The Night (feat. Lil Baby & DaBaby)   953967  "
      ]
     },
     "execution_count": 16,
     "metadata": {},
     "output_type": "execute_result"
    }
   ],
   "source": [
    "spotify_cleaned.head()"
   ]
  },
  {
   "cell_type": "code",
   "execution_count": 17,
   "metadata": {},
   "outputs": [],
   "source": [
    "# renaming columns\n",
    "spotify_cleaned = spotify_cleaned.rename({0:'artist', 1:'date', 2:'movement', 3:'ranking', 4:'song_title', 5:'streams'}, \n",
    "                                         axis='columns')"
   ]
  },
  {
   "cell_type": "code",
   "execution_count": 18,
   "metadata": {},
   "outputs": [],
   "source": [
    "# removing '/sep/' from artist and song_title column, if there's any\n",
    "spotify_cleaned['artist'] = spotify_cleaned['artist'].str.replace('/sep/','')\n",
    "spotify_cleaned['song_title'] = spotify_cleaned['song_title'].str.replace('/sep/','')"
   ]
  },
  {
   "cell_type": "code",
   "execution_count": 19,
   "metadata": {},
   "outputs": [
    {
     "data": {
      "text/plain": [
       "dtype('<M8[ns]')"
      ]
     },
     "execution_count": 19,
     "metadata": {},
     "output_type": "execute_result"
    }
   ],
   "source": [
    "# converting date column to datetime\n",
    "spotify_cleaned['date'] = pd.to_datetime(spotify_cleaned['date'])\n",
    "spotify_cleaned['date'].dtype"
   ]
  },
  {
   "cell_type": "code",
   "execution_count": 20,
   "metadata": {
    "scrolled": true
   },
   "outputs": [],
   "source": [
    "# sort data by date then by ranking\n",
    "spotify_cleaned = spotify_cleaned.sort_values(['date', 'ranking'], ascending = (False, True))"
   ]
  },
  {
   "cell_type": "code",
   "execution_count": 21,
   "metadata": {},
   "outputs": [],
   "source": [
    "# adding new_entry column\n",
    "spotify_cleaned['new_entry'] = (spotify_cleaned['movement']=='circle')"
   ]
  },
  {
   "cell_type": "code",
   "execution_count": 22,
   "metadata": {},
   "outputs": [],
   "source": [
    "# adding date_dow column\n",
    "spotify_cleaned['date_dow'] = spotify_cleaned['date'].dt.dayofweek+1"
   ]
  },
  {
   "cell_type": "code",
   "execution_count": 23,
   "metadata": {},
   "outputs": [],
   "source": [
    "# re-index\n",
    "spotify_cleaned = spotify_cleaned.reset_index()"
   ]
  },
  {
   "cell_type": "code",
   "execution_count": 24,
   "metadata": {
    "scrolled": true
   },
   "outputs": [
    {
     "data": {
      "text/html": [
       "<div>\n",
       "<style scoped>\n",
       "    .dataframe tbody tr th:only-of-type {\n",
       "        vertical-align: middle;\n",
       "    }\n",
       "\n",
       "    .dataframe tbody tr th {\n",
       "        vertical-align: top;\n",
       "    }\n",
       "\n",
       "    .dataframe thead th {\n",
       "        text-align: right;\n",
       "    }\n",
       "</style>\n",
       "<table border=\"1\" class=\"dataframe\">\n",
       "  <thead>\n",
       "    <tr style=\"text-align: right;\">\n",
       "      <th></th>\n",
       "      <th>index</th>\n",
       "      <th>artist</th>\n",
       "      <th>date</th>\n",
       "      <th>movement</th>\n",
       "      <th>ranking</th>\n",
       "      <th>song_title</th>\n",
       "      <th>streams</th>\n",
       "      <th>new_entry</th>\n",
       "      <th>date_dow</th>\n",
       "    </tr>\n",
       "  </thead>\n",
       "  <tbody>\n",
       "    <tr>\n",
       "      <th>0</th>\n",
       "      <td>2</td>\n",
       "      <td>Ariana Grande</td>\n",
       "      <td>2020-10-30</td>\n",
       "      <td>circle</td>\n",
       "      <td>1</td>\n",
       "      <td>34+35</td>\n",
       "      <td>2698854</td>\n",
       "      <td>True</td>\n",
       "      <td>5</td>\n",
       "    </tr>\n",
       "    <tr>\n",
       "      <th>1</th>\n",
       "      <td>2</td>\n",
       "      <td>Ariana Grande</td>\n",
       "      <td>2020-10-30</td>\n",
       "      <td>polygon</td>\n",
       "      <td>2</td>\n",
       "      <td>positions</td>\n",
       "      <td>2532572</td>\n",
       "      <td>False</td>\n",
       "      <td>5</td>\n",
       "    </tr>\n",
       "    <tr>\n",
       "      <th>2</th>\n",
       "      <td>2</td>\n",
       "      <td>Ariana Grande</td>\n",
       "      <td>2020-10-30</td>\n",
       "      <td>circle</td>\n",
       "      <td>3</td>\n",
       "      <td>motive (with Doja Cat)</td>\n",
       "      <td>2128897</td>\n",
       "      <td>True</td>\n",
       "      <td>5</td>\n",
       "    </tr>\n",
       "    <tr>\n",
       "      <th>3</th>\n",
       "      <td>2</td>\n",
       "      <td>Ariana Grande</td>\n",
       "      <td>2020-10-30</td>\n",
       "      <td>circle</td>\n",
       "      <td>4</td>\n",
       "      <td>off the table (with The Weeknd)</td>\n",
       "      <td>2034529</td>\n",
       "      <td>True</td>\n",
       "      <td>5</td>\n",
       "    </tr>\n",
       "    <tr>\n",
       "      <th>4</th>\n",
       "      <td>2</td>\n",
       "      <td>Ariana Grande</td>\n",
       "      <td>2020-10-30</td>\n",
       "      <td>circle</td>\n",
       "      <td>5</td>\n",
       "      <td>shut up</td>\n",
       "      <td>1943259</td>\n",
       "      <td>True</td>\n",
       "      <td>5</td>\n",
       "    </tr>\n",
       "  </tbody>\n",
       "</table>\n",
       "</div>"
      ],
      "text/plain": [
       "   index         artist       date movement  ranking  \\\n",
       "0      2  Ariana Grande 2020-10-30   circle        1   \n",
       "1      2  Ariana Grande 2020-10-30  polygon        2   \n",
       "2      2  Ariana Grande 2020-10-30   circle        3   \n",
       "3      2  Ariana Grande 2020-10-30   circle        4   \n",
       "4      2  Ariana Grande 2020-10-30   circle        5   \n",
       "\n",
       "                        song_title  streams  new_entry  date_dow  \n",
       "0                            34+35  2698854       True         5  \n",
       "1                        positions  2532572      False         5  \n",
       "2           motive (with Doja Cat)  2128897       True         5  \n",
       "3  off the table (with The Weeknd)  2034529       True         5  \n",
       "4                          shut up  1943259       True         5  "
      ]
     },
     "execution_count": 24,
     "metadata": {},
     "output_type": "execute_result"
    }
   ],
   "source": [
    "spotify_cleaned.head()"
   ]
  },
  {
   "cell_type": "code",
   "execution_count": 25,
   "metadata": {},
   "outputs": [],
   "source": [
    "spotify_cleaned.drop(columns = ['index','movement'], inplace = True)"
   ]
  },
  {
   "cell_type": "code",
   "execution_count": 26,
   "metadata": {
    "scrolled": true
   },
   "outputs": [
    {
     "data": {
      "text/html": [
       "<div>\n",
       "<style scoped>\n",
       "    .dataframe tbody tr th:only-of-type {\n",
       "        vertical-align: middle;\n",
       "    }\n",
       "\n",
       "    .dataframe tbody tr th {\n",
       "        vertical-align: top;\n",
       "    }\n",
       "\n",
       "    .dataframe thead th {\n",
       "        text-align: right;\n",
       "    }\n",
       "</style>\n",
       "<table border=\"1\" class=\"dataframe\">\n",
       "  <thead>\n",
       "    <tr style=\"text-align: right;\">\n",
       "      <th></th>\n",
       "      <th>artist</th>\n",
       "      <th>date</th>\n",
       "      <th>ranking</th>\n",
       "      <th>song_title</th>\n",
       "      <th>streams</th>\n",
       "      <th>new_entry</th>\n",
       "      <th>date_dow</th>\n",
       "    </tr>\n",
       "  </thead>\n",
       "  <tbody>\n",
       "    <tr>\n",
       "      <th>0</th>\n",
       "      <td>Ariana Grande</td>\n",
       "      <td>2020-10-30</td>\n",
       "      <td>1</td>\n",
       "      <td>34+35</td>\n",
       "      <td>2698854</td>\n",
       "      <td>True</td>\n",
       "      <td>5</td>\n",
       "    </tr>\n",
       "    <tr>\n",
       "      <th>1</th>\n",
       "      <td>Ariana Grande</td>\n",
       "      <td>2020-10-30</td>\n",
       "      <td>2</td>\n",
       "      <td>positions</td>\n",
       "      <td>2532572</td>\n",
       "      <td>False</td>\n",
       "      <td>5</td>\n",
       "    </tr>\n",
       "    <tr>\n",
       "      <th>2</th>\n",
       "      <td>Ariana Grande</td>\n",
       "      <td>2020-10-30</td>\n",
       "      <td>3</td>\n",
       "      <td>motive (with Doja Cat)</td>\n",
       "      <td>2128897</td>\n",
       "      <td>True</td>\n",
       "      <td>5</td>\n",
       "    </tr>\n",
       "    <tr>\n",
       "      <th>3</th>\n",
       "      <td>Ariana Grande</td>\n",
       "      <td>2020-10-30</td>\n",
       "      <td>4</td>\n",
       "      <td>off the table (with The Weeknd)</td>\n",
       "      <td>2034529</td>\n",
       "      <td>True</td>\n",
       "      <td>5</td>\n",
       "    </tr>\n",
       "    <tr>\n",
       "      <th>4</th>\n",
       "      <td>Ariana Grande</td>\n",
       "      <td>2020-10-30</td>\n",
       "      <td>5</td>\n",
       "      <td>shut up</td>\n",
       "      <td>1943259</td>\n",
       "      <td>True</td>\n",
       "      <td>5</td>\n",
       "    </tr>\n",
       "  </tbody>\n",
       "</table>\n",
       "</div>"
      ],
      "text/plain": [
       "          artist       date  ranking                       song_title  \\\n",
       "0  Ariana Grande 2020-10-30        1                            34+35   \n",
       "1  Ariana Grande 2020-10-30        2                        positions   \n",
       "2  Ariana Grande 2020-10-30        3           motive (with Doja Cat)   \n",
       "3  Ariana Grande 2020-10-30        4  off the table (with The Weeknd)   \n",
       "4  Ariana Grande 2020-10-30        5                          shut up   \n",
       "\n",
       "   streams  new_entry  date_dow  \n",
       "0  2698854       True         5  \n",
       "1  2532572      False         5  \n",
       "2  2128897       True         5  \n",
       "3  2034529       True         5  \n",
       "4  1943259       True         5  "
      ]
     },
     "execution_count": 26,
     "metadata": {},
     "output_type": "execute_result"
    }
   ],
   "source": [
    "spotify_cleaned.head()"
   ]
  },
  {
   "cell_type": "code",
   "execution_count": 27,
   "metadata": {
    "scrolled": true
   },
   "outputs": [
    {
     "name": "stdout",
     "output_type": "stream",
     "text": [
      "artist: object\n",
      "date: datetime64[ns]\n",
      "ranking: int32\n",
      "song_title: object\n",
      "streams: int32\n",
      "new_entry: bool\n",
      "date_dow: int64\n"
     ]
    }
   ],
   "source": [
    "# checking data type\n",
    "spotify_cleaned.head()\n",
    "print(f'artist: {spotify_cleaned[\"artist\"].dtype}')\n",
    "print(f'date: {spotify_cleaned[\"date\"].dtype}')\n",
    "print(f'ranking: {spotify_cleaned[\"ranking\"].dtype}')\n",
    "print(f'song_title: {spotify_cleaned[\"song_title\"].dtype}')\n",
    "print(f'streams: {spotify_cleaned[\"streams\"].dtype}')\n",
    "print(f'new_entry: {spotify_cleaned[\"new_entry\"].dtype}')\n",
    "print(f'date_dow: {spotify_cleaned[\"date_dow\"].dtype}')"
   ]
  },
  {
   "cell_type": "code",
   "execution_count": null,
   "metadata": {},
   "outputs": [],
   "source": []
  },
  {
   "cell_type": "code",
   "execution_count": 28,
   "metadata": {},
   "outputs": [],
   "source": [
    "spotify_cleaned.to_csv('spotify_cleaned.csv')"
   ]
  },
  {
   "cell_type": "code",
   "execution_count": null,
   "metadata": {},
   "outputs": [],
   "source": []
  }
 ],
 "metadata": {
  "kernelspec": {
   "display_name": "Python 3",
   "language": "python",
   "name": "python3"
  },
  "language_info": {
   "codemirror_mode": {
    "name": "ipython",
    "version": 3
   },
   "file_extension": ".py",
   "mimetype": "text/x-python",
   "name": "python",
   "nbconvert_exporter": "python",
   "pygments_lexer": "ipython3",
   "version": "3.7.6"
  }
 },
 "nbformat": 4,
 "nbformat_minor": 4
}
