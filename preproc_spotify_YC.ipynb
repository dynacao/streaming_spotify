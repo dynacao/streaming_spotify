{
 "cells": [
  {
   "cell_type": "code",
   "execution_count": 1,
   "metadata": {},
   "outputs": [],
   "source": [
    "import pandas as pd"
   ]
  },
  {
   "cell_type": "code",
   "execution_count": 59,
   "metadata": {},
   "outputs": [],
   "source": [
    "spotify = pd.read_csv('spotify_daily.csv')"
   ]
  },
  {
   "cell_type": "code",
   "execution_count": 60,
   "metadata": {},
   "outputs": [
    {
     "data": {
      "text/html": [
       "<div>\n",
       "<style scoped>\n",
       "    .dataframe tbody tr th:only-of-type {\n",
       "        vertical-align: middle;\n",
       "    }\n",
       "\n",
       "    .dataframe tbody tr th {\n",
       "        vertical-align: top;\n",
       "    }\n",
       "\n",
       "    .dataframe thead th {\n",
       "        text-align: right;\n",
       "    }\n",
       "</style>\n",
       "<table border=\"1\" class=\"dataframe\">\n",
       "  <thead>\n",
       "    <tr style=\"text-align: right;\">\n",
       "      <th></th>\n",
       "      <th>artist</th>\n",
       "      <th>date</th>\n",
       "      <th>movement</th>\n",
       "      <th>ranking</th>\n",
       "      <th>song_title</th>\n",
       "      <th>streams</th>\n",
       "    </tr>\n",
       "  </thead>\n",
       "  <tbody>\n",
       "    <tr>\n",
       "      <th>0</th>\n",
       "      <td>Ariana Grande/sep/,24kGoldn/sep/,Internet Mone...</td>\n",
       "      <td>2020-10-29,2020-10-29,2020-10-29,2020-10-29,20...</td>\n",
       "      <td>rect,polygon,polygon,rect,rect,rect,rect,rect,...</td>\n",
       "      <td>1,2,3,4,5,6,7,8,9,10,11,12,13,14,15,16,17,18,1...</td>\n",
       "      <td>positions/sep/,Mood (feat. iann dior)/sep/,Lem...</td>\n",
       "      <td>1423435,1085998,1054562,1009019,962738,917075,...</td>\n",
       "    </tr>\n",
       "    <tr>\n",
       "      <th>1</th>\n",
       "      <td>Ariana Grande/sep/,Luke Combs/sep/,Internet Mo...</td>\n",
       "      <td>2020-10-27,2020-10-27,2020-10-27,2020-10-27,20...</td>\n",
       "      <td>rect,rect,rect,rect,rect,rect,rect,rect,rect,r...</td>\n",
       "      <td>1,2,3,4,5,6,7,8,9,10,11,12,13,14,15,16,17,18,1...</td>\n",
       "      <td>positions/sep/,Forever After All/sep/,Lemonade...</td>\n",
       "      <td>1579701,1144399,1082428,1049116,948848,897468,...</td>\n",
       "    </tr>\n",
       "    <tr>\n",
       "      <th>2</th>\n",
       "      <td>Ariana Grande/sep/,Internet Money/sep/,24kGold...</td>\n",
       "      <td>2020-10-28,2020-10-28,2020-10-28,2020-10-28,20...</td>\n",
       "      <td>rect,polygon,polygon,polygon,rect,rect,rect,re...</td>\n",
       "      <td>1,2,3,4,5,6,7,8,9,10,11,12,13,14,15,16,17,18,1...</td>\n",
       "      <td>positions/sep/,Lemonade (feat. Gunna, Don Toli...</td>\n",
       "      <td>1467474,1066857,1065305,1049866,953967,898601,...</td>\n",
       "    </tr>\n",
       "  </tbody>\n",
       "</table>\n",
       "</div>"
      ],
      "text/plain": [
       "                                              artist  \\\n",
       "0  Ariana Grande/sep/,24kGoldn/sep/,Internet Mone...   \n",
       "1  Ariana Grande/sep/,Luke Combs/sep/,Internet Mo...   \n",
       "2  Ariana Grande/sep/,Internet Money/sep/,24kGold...   \n",
       "\n",
       "                                                date  \\\n",
       "0  2020-10-29,2020-10-29,2020-10-29,2020-10-29,20...   \n",
       "1  2020-10-27,2020-10-27,2020-10-27,2020-10-27,20...   \n",
       "2  2020-10-28,2020-10-28,2020-10-28,2020-10-28,20...   \n",
       "\n",
       "                                            movement  \\\n",
       "0  rect,polygon,polygon,rect,rect,rect,rect,rect,...   \n",
       "1  rect,rect,rect,rect,rect,rect,rect,rect,rect,r...   \n",
       "2  rect,polygon,polygon,polygon,rect,rect,rect,re...   \n",
       "\n",
       "                                             ranking  \\\n",
       "0  1,2,3,4,5,6,7,8,9,10,11,12,13,14,15,16,17,18,1...   \n",
       "1  1,2,3,4,5,6,7,8,9,10,11,12,13,14,15,16,17,18,1...   \n",
       "2  1,2,3,4,5,6,7,8,9,10,11,12,13,14,15,16,17,18,1...   \n",
       "\n",
       "                                          song_title  \\\n",
       "0  positions/sep/,Mood (feat. iann dior)/sep/,Lem...   \n",
       "1  positions/sep/,Forever After All/sep/,Lemonade...   \n",
       "2  positions/sep/,Lemonade (feat. Gunna, Don Toli...   \n",
       "\n",
       "                                             streams  \n",
       "0  1423435,1085998,1054562,1009019,962738,917075,...  \n",
       "1  1579701,1144399,1082428,1049116,948848,897468,...  \n",
       "2  1467474,1066857,1065305,1049866,953967,898601,...  "
      ]
     },
     "execution_count": 60,
     "metadata": {},
     "output_type": "execute_result"
    }
   ],
   "source": [
    "spotify.head(3)"
   ]
  },
  {
   "cell_type": "code",
   "execution_count": 4,
   "metadata": {},
   "outputs": [
    {
     "data": {
      "text/plain": [
       "(3, 5)"
      ]
     },
     "execution_count": 4,
     "metadata": {},
     "output_type": "execute_result"
    }
   ],
   "source": [
    "spotify.shape"
   ]
  },
  {
   "cell_type": "code",
   "execution_count": 5,
   "metadata": {
    "scrolled": false
   },
   "outputs": [
    {
     "data": {
      "text/plain": [
       "600"
      ]
     },
     "execution_count": 5,
     "metadata": {},
     "output_type": "execute_result"
    }
   ],
   "source": [
    "3*200"
   ]
  },
  {
   "cell_type": "code",
   "execution_count": 13,
   "metadata": {},
   "outputs": [
    {
     "data": {
      "text/plain": [
       "0   NaN\n",
       "1   NaN\n",
       "2   NaN\n",
       "Name: date, dtype: float64"
      ]
     },
     "execution_count": 13,
     "metadata": {},
     "output_type": "execute_result"
    }
   ],
   "source": [
    "date = spotify['date'].str.split(',')\n",
    "date.str.strip(' ')"
   ]
  },
  {
   "cell_type": "code",
   "execution_count": 10,
   "metadata": {},
   "outputs": [
    {
     "data": {
      "text/plain": [
       "3"
      ]
     },
     "execution_count": 10,
     "metadata": {},
     "output_type": "execute_result"
    }
   ],
   "source": [
    "len(date)"
   ]
  },
  {
   "cell_type": "code",
   "execution_count": 31,
   "metadata": {},
   "outputs": [],
   "source": [
    "def list_to_rows(variable, sep, d_type):\n",
    "    '''''''''''\n",
    "    This function splits the lists in df[variable] using sep, and put every split output in a new row\n",
    "    '''''''''''\n",
    "    col_np = spotify[variable].str.split(sep).explode()\n",
    "    col_df = pd.DataFrame(col_np)\n",
    "    col_df = col_df.astype({variable: d_type})\n",
    "    return col_df"
   ]
  },
  {
   "cell_type": "code",
   "execution_count": 37,
   "metadata": {},
   "outputs": [],
   "source": [
    "streams = list_to_rows('streams', ',', 'int')"
   ]
  },
  {
   "cell_type": "code",
   "execution_count": 50,
   "metadata": {},
   "outputs": [],
   "source": [
    "art_col = list_to_rows('artist', '/sep/,', 'str')"
   ]
  },
  {
   "cell_type": "code",
   "execution_count": 53,
   "metadata": {},
   "outputs": [],
   "source": [
    "song = list_to_rows('song_title','/sep/,','str')"
   ]
  },
  {
   "cell_type": "code",
   "execution_count": 61,
   "metadata": {},
   "outputs": [],
   "source": [
    "symbol = list_to_rows('movement',',','str')"
   ]
  },
  {
   "cell_type": "code",
   "execution_count": 62,
   "metadata": {},
   "outputs": [
    {
     "data": {
      "text/html": [
       "<div>\n",
       "<style scoped>\n",
       "    .dataframe tbody tr th:only-of-type {\n",
       "        vertical-align: middle;\n",
       "    }\n",
       "\n",
       "    .dataframe tbody tr th {\n",
       "        vertical-align: top;\n",
       "    }\n",
       "\n",
       "    .dataframe thead th {\n",
       "        text-align: right;\n",
       "    }\n",
       "</style>\n",
       "<table border=\"1\" class=\"dataframe\">\n",
       "  <thead>\n",
       "    <tr style=\"text-align: right;\">\n",
       "      <th></th>\n",
       "      <th>movement</th>\n",
       "    </tr>\n",
       "  </thead>\n",
       "  <tbody>\n",
       "    <tr>\n",
       "      <th>0</th>\n",
       "      <td>rect</td>\n",
       "    </tr>\n",
       "    <tr>\n",
       "      <th>0</th>\n",
       "      <td>polygon</td>\n",
       "    </tr>\n",
       "    <tr>\n",
       "      <th>0</th>\n",
       "      <td>polygon</td>\n",
       "    </tr>\n",
       "    <tr>\n",
       "      <th>0</th>\n",
       "      <td>rect</td>\n",
       "    </tr>\n",
       "    <tr>\n",
       "      <th>0</th>\n",
       "      <td>rect</td>\n",
       "    </tr>\n",
       "    <tr>\n",
       "      <th>...</th>\n",
       "      <td>...</td>\n",
       "    </tr>\n",
       "    <tr>\n",
       "      <th>2</th>\n",
       "      <td>circle</td>\n",
       "    </tr>\n",
       "    <tr>\n",
       "      <th>2</th>\n",
       "      <td>circle</td>\n",
       "    </tr>\n",
       "    <tr>\n",
       "      <th>2</th>\n",
       "      <td>polygon</td>\n",
       "    </tr>\n",
       "    <tr>\n",
       "      <th>2</th>\n",
       "      <td>circle</td>\n",
       "    </tr>\n",
       "    <tr>\n",
       "      <th>2</th>\n",
       "      <td>polygon</td>\n",
       "    </tr>\n",
       "  </tbody>\n",
       "</table>\n",
       "<p>600 rows × 1 columns</p>\n",
       "</div>"
      ],
      "text/plain": [
       "   movement\n",
       "0      rect\n",
       "0   polygon\n",
       "0   polygon\n",
       "0      rect\n",
       "0      rect\n",
       "..      ...\n",
       "2    circle\n",
       "2    circle\n",
       "2   polygon\n",
       "2    circle\n",
       "2   polygon\n",
       "\n",
       "[600 rows x 1 columns]"
      ]
     },
     "execution_count": 62,
     "metadata": {},
     "output_type": "execute_result"
    }
   ],
   "source": [
    "symbol"
   ]
  },
  {
   "cell_type": "code",
   "execution_count": 56,
   "metadata": {},
   "outputs": [
    {
     "data": {
      "text/html": [
       "<div>\n",
       "<style scoped>\n",
       "    .dataframe tbody tr th:only-of-type {\n",
       "        vertical-align: middle;\n",
       "    }\n",
       "\n",
       "    .dataframe tbody tr th {\n",
       "        vertical-align: top;\n",
       "    }\n",
       "\n",
       "    .dataframe thead th {\n",
       "        text-align: right;\n",
       "    }\n",
       "</style>\n",
       "<table border=\"1\" class=\"dataframe\">\n",
       "  <thead>\n",
       "    <tr style=\"text-align: right;\">\n",
       "      <th></th>\n",
       "      <th>0</th>\n",
       "      <th>1</th>\n",
       "      <th>2</th>\n",
       "      <th>3</th>\n",
       "      <th>4</th>\n",
       "    </tr>\n",
       "  </thead>\n",
       "  <tbody>\n",
       "    <tr>\n",
       "      <th>0</th>\n",
       "      <td>Cardi B</td>\n",
       "      <td>Cardi B</td>\n",
       "      <td>WAP (feat. Megan Thee Stallion)</td>\n",
       "      <td>Cardi B</td>\n",
       "      <td>1423435</td>\n",
       "    </tr>\n",
       "    <tr>\n",
       "      <th>0</th>\n",
       "      <td>Internet Money</td>\n",
       "      <td>Internet Money</td>\n",
       "      <td>Lemonade (feat. Gunna, Don Toliver &amp; NAV)</td>\n",
       "      <td>Internet Money</td>\n",
       "      <td>1085998</td>\n",
       "    </tr>\n",
       "    <tr>\n",
       "      <th>0</th>\n",
       "      <td>24kGoldn</td>\n",
       "      <td>24kGoldn</td>\n",
       "      <td>Mood (feat. iann dior)</td>\n",
       "      <td>24kGoldn</td>\n",
       "      <td>1054562</td>\n",
       "    </tr>\n",
       "    <tr>\n",
       "      <th>0</th>\n",
       "      <td>Pop Smoke</td>\n",
       "      <td>Pop Smoke</td>\n",
       "      <td>For The Night (feat. Lil Baby &amp; DaBaby)</td>\n",
       "      <td>Pop Smoke</td>\n",
       "      <td>1009019</td>\n",
       "    </tr>\n",
       "    <tr>\n",
       "      <th>0</th>\n",
       "      <td>Drake</td>\n",
       "      <td>Drake</td>\n",
       "      <td>Laugh Now Cry Later (feat. Lil Durk)</td>\n",
       "      <td>Drake</td>\n",
       "      <td>962738</td>\n",
       "    </tr>\n",
       "  </tbody>\n",
       "</table>\n",
       "</div>"
      ],
      "text/plain": [
       "                0               1                                          2  \\\n",
       "0         Cardi B         Cardi B            WAP (feat. Megan Thee Stallion)   \n",
       "0  Internet Money  Internet Money  Lemonade (feat. Gunna, Don Toliver & NAV)   \n",
       "0        24kGoldn        24kGoldn                     Mood (feat. iann dior)   \n",
       "0       Pop Smoke       Pop Smoke    For The Night (feat. Lil Baby & DaBaby)   \n",
       "0           Drake           Drake       Laugh Now Cry Later (feat. Lil Durk)   \n",
       "\n",
       "                3        4  \n",
       "0         Cardi B  1423435  \n",
       "0  Internet Money  1085998  \n",
       "0        24kGoldn  1054562  \n",
       "0       Pop Smoke  1009019  \n",
       "0           Drake   962738  "
      ]
     },
     "execution_count": 56,
     "metadata": {},
     "output_type": "execute_result"
    }
   ],
   "source": [
    "df_test = pd.concat([art_col, art_col, song, art_col, streams], axis=1, ignore_index = True)\n",
    "df_test.head()"
   ]
  },
  {
   "cell_type": "code",
   "execution_count": 58,
   "metadata": {},
   "outputs": [],
   "source": [
    "df_test.to_csv('test.csv')"
   ]
  },
  {
   "cell_type": "code",
   "execution_count": null,
   "metadata": {},
   "outputs": [],
   "source": []
  }
 ],
 "metadata": {
  "kernelspec": {
   "display_name": "Python 3",
   "language": "python",
   "name": "python3"
  },
  "language_info": {
   "codemirror_mode": {
    "name": "ipython",
    "version": 3
   },
   "file_extension": ".py",
   "mimetype": "text/x-python",
   "name": "python",
   "nbconvert_exporter": "python",
   "pygments_lexer": "ipython3",
   "version": "3.7.6"
  }
 },
 "nbformat": 4,
 "nbformat_minor": 4
}
